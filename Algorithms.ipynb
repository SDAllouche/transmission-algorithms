{
 "cells": [
  {
   "cell_type": "code",
   "execution_count": 1,
   "id": "db8b4deb",
   "metadata": {},
   "outputs": [],
   "source": [
    "import numpy as np\n",
    "import matplotlib.pyplot as plt \n",
    "import mylib"
   ]
  },
  {
   "cell_type": "code",
   "execution_count": 2,
   "id": "059ebcca",
   "metadata": {},
   "outputs": [],
   "source": [
    "def text2binary(fichier):\n",
    "    char=\"\"\n",
    "    file = open(fichier, 'r')\n",
    "    while True:\n",
    "        c=file.read(1)\n",
    "        if not c: \n",
    "            break\n",
    "        char += bin(ord(c))[2:].zfill(8)\n",
    "    file.close()\n",
    "    return char"
   ]
  },
  {
   "cell_type": "code",
   "execution_count": 3,
   "id": "1df0c162",
   "metadata": {},
   "outputs": [],
   "source": [
    "def image2binary(image):\n",
    "    global nl,nc\n",
    "    \n",
    "    I_gray=np.around(mylib.rgb2gray(image))\n",
    "    nl,nc=I_gray.shape\n",
    "    I=mylib.Img2liste_row(I_gray)\n",
    "    \n",
    "    return ''.join([bin(int(i))[2:].zfill(8) for i in I])"
   ]
  },
  {
   "cell_type": "code",
   "execution_count": 4,
   "id": "2192cb14",
   "metadata": {},
   "outputs": [],
   "source": [
    "import wave\n",
    "\n",
    "def audio2binary(audio): \n",
    "    global nchannels,sampwidth,framerate,nframes,comptype,compname\n",
    "    (nchannels,sampwidth,framerate,nframes,comptype,compname) = audio.getparams()\n",
    "    data=audio.readframes(-1)\n",
    "    return ''.join([bin(i)[2:].zfill(8) for i in data])"
   ]
  },
  {
   "cell_type": "code",
   "execution_count": 5,
   "id": "b7ea54f4",
   "metadata": {},
   "outputs": [],
   "source": [
    "#write data in texte file\n",
    "def one(suit):\n",
    "    liste=mylib.bin2dec(suit)\n",
    "    return ''.join([chr(int(i,2)) for i in liste])"
   ]
  },
  {
   "cell_type": "code",
   "execution_count": 6,
   "id": "fe81169d",
   "metadata": {},
   "outputs": [],
   "source": [
    "#write data in image file\n",
    "def two(suit):\n",
    "    \n",
    "    liste=mylib.bin2dec(suit)\n",
    "    \n",
    "    #converts liste of 8 bits into pixels values\n",
    "    pixels=[int(i,2) for i in liste]\n",
    "        \n",
    "    return mylib.liste2img_row(pixels,nl,nc)"
   ]
  },
  {
   "cell_type": "code",
   "execution_count": 7,
   "id": "7c4e4753",
   "metadata": {},
   "outputs": [],
   "source": [
    "import wave\n",
    "\n",
    "#write data in audio file\n",
    "def three(suit):\n",
    "    \n",
    "    liste=mylib.bin2dec(suit)\n",
    "    \n",
    "    ##converts liste of 8 bits into ascci values\n",
    "    data_ori=[int(i,2) for i in liste]\n",
    "    \n",
    "    #the next 3 lines are for create audio file \n",
    "    path=\"Audio/conveted.wav\"\n",
    "    audio=wave.open(path,\"w\")\n",
    "    audio.setparams((nchannels,sampwidth,framerate,nframes,comptype,compname))\n",
    "    audio.writeframes(np.frombuffer(bytes(data_ori),np.dtype(int)))\n",
    "    \n",
    "    return path"
   ]
  },
  {
   "cell_type": "code",
   "execution_count": 8,
   "id": "18460a8d",
   "metadata": {},
   "outputs": [],
   "source": [
    "def RZUni(seq,tb):\n",
    "    return list(np.concatenate([[5]*(tb//2)+[0]*(tb//2) if i == \"1\" else [0]*tb  for i in seq]))"
   ]
  },
  {
   "cell_type": "code",
   "execution_count": 9,
   "id": "c356d111",
   "metadata": {},
   "outputs": [],
   "source": [
    "def decRZUni(l,tb):\n",
    "    s=\"\"\n",
    "    for i in range(0,len(l),tb):\n",
    "        if(l[i:i+tb//2]==[5]*(tb//2) and l[i+tb//2:i+tb]==[0]*(tb//2)):\n",
    "            s+=\"1\"\n",
    "        elif(l[i:i+tb]==[0]*(tb)):\n",
    "            s+=\"0\"\n",
    "        else:\n",
    "            print(\"Bit erronné\")\n",
    "            break\n",
    "    return s"
   ]
  },
  {
   "cell_type": "code",
   "execution_count": 10,
   "id": "3da7fb75",
   "metadata": {},
   "outputs": [],
   "source": [
    "def RZBi(seq,tb):\n",
    "    return list(np.concatenate([[5]*(tb//2)+[0]*(tb//2) if i == \"1\" else [-5]*(tb//2)+[0]*(tb//2)  for i in seq]))"
   ]
  },
  {
   "cell_type": "code",
   "execution_count": 11,
   "id": "616c159e",
   "metadata": {},
   "outputs": [],
   "source": [
    "def decRZBi(l,tb):\n",
    "    s=\"\"\n",
    "    for i in range(0,len(l),tb):\n",
    "        if(l[i:i+tb//2]==[5]*(tb//2) and l[i+tb//2:i+tb]==[0]*(tb//2)):\n",
    "            s+=\"1\"\n",
    "        elif(l[i:i+tb//2]==[-5]*(tb//2) and l[i+tb//2:i+tb]==[0]*(tb//2)):\n",
    "            s+=\"0\"\n",
    "        else:\n",
    "            print(\"Bit erronné\")\n",
    "            break\n",
    "    return s"
   ]
  },
  {
   "cell_type": "code",
   "execution_count": 12,
   "id": "f924c859",
   "metadata": {},
   "outputs": [],
   "source": [
    "def NRZ(seq,tb):\n",
    "    return list(np.concatenate([[5]*tb if i == \"1\" else [-5]*tb for i in seq]))"
   ]
  },
  {
   "cell_type": "code",
   "execution_count": 13,
   "id": "fec2a781",
   "metadata": {},
   "outputs": [],
   "source": [
    "def decNRZ(l,tb):\n",
    "    s=\"\"\n",
    "    for i in range(0,len(l),tb):\n",
    "        if(l[i:i+tb]==[5]*(tb)):\n",
    "            s+=\"1\"\n",
    "        elif(l[i:i+tb]==[-5]*(tb)):\n",
    "            s+=\"0\"\n",
    "        else:\n",
    "            print(\"Bit erronné\")\n",
    "            break\n",
    "    return s"
   ]
  },
  {
   "cell_type": "code",
   "execution_count": 14,
   "id": "44a95cfb",
   "metadata": {},
   "outputs": [],
   "source": [
    "def NRZI(seq,tb):\n",
    "    Lx=[]\n",
    "    for i in range(len(seq)):\n",
    "        if(i==0):\n",
    "            if seq[i] == \"1\":\n",
    "                Lx+=[5]*tb\n",
    "            else:\n",
    "                Lx+=[-5]*tb\n",
    "        else:\n",
    "            if seq[i] == \"1\":\n",
    "                Lx+=[Lx[-1]]*tb\n",
    "            else:\n",
    "                Lx+=[-Lx[-1]]*tb\n",
    "    return Lx"
   ]
  },
  {
   "cell_type": "code",
   "execution_count": 15,
   "id": "7d5ec874",
   "metadata": {},
   "outputs": [],
   "source": [
    "def decNRZI(l,tb):\n",
    "    s=decNRZ(l[:tb],tb)\n",
    "    for i in range(tb,len(l),tb):\n",
    "        if(l[i:i+tb]==[l[i]]*(tb) and l[i]!=l[i-1]):\n",
    "            s+=\"0\"\n",
    "        elif(l[i:i+tb]==[l[i]]*(tb) and l[i]==l[i-1]):\n",
    "            s+=\"1\"\n",
    "        else:\n",
    "            print(\"Bit erronné\")\n",
    "            break\n",
    "    return s"
   ]
  },
  {
   "cell_type": "code",
   "execution_count": 16,
   "id": "be6ad0ff",
   "metadata": {},
   "outputs": [],
   "source": [
    "def Manchester(seq,tb):\n",
    "    return list(np.concatenate([[5]*(tb//2)+[-5]*(tb//2) if i == \"1\" else [-5]*(tb//2)+[5]*(tb//2) for i in seq]))"
   ]
  },
  {
   "cell_type": "code",
   "execution_count": 17,
   "id": "bf0d5590",
   "metadata": {},
   "outputs": [],
   "source": [
    "def decManchester(l,tb):\n",
    "    s=\"\"\n",
    "    for i in range(0,len(l),tb):\n",
    "        if(l[i:i+tb//2]==[5]*(tb//2) and l[i+tb//2:i+tb]==[-5]*(tb//2)):\n",
    "            s+=\"1\"\n",
    "        elif(l[i:i+tb//2]==[-5]*(tb//2) and l[i+tb//2:i+tb]==[5]*(tb//2)):\n",
    "            s+=\"0\"\n",
    "        else:\n",
    "            print(\"Bit erronné\")\n",
    "            break\n",
    "    return s"
   ]
  },
  {
   "cell_type": "code",
   "execution_count": 18,
   "id": "5695ecfc",
   "metadata": {},
   "outputs": [],
   "source": [
    "def ManchesterDiff(seq,tb):\n",
    "    Lx=[]\n",
    "    for i in range(len(seq)):\n",
    "        if(i==0):\n",
    "            if seq[i] == \"1\":\n",
    "                Lx+=[5]*(tb//2)+[-5]*(tb//2)\n",
    "            else:\n",
    "                Lx+=[-5]*(tb//2)+[5]*(tb//2)\n",
    "        else:\n",
    "            if seq[i] == \"1\":\n",
    "                Lx+=[Lx[-1]]*(tb//2)+[-Lx[-1]]*(tb//2)\n",
    "            else:\n",
    "                Lx+=[-Lx[-1]]*(tb//2)+[Lx[-1]]*(tb//2)\n",
    "    return Lx"
   ]
  },
  {
   "cell_type": "code",
   "execution_count": 19,
   "id": "fffe818f",
   "metadata": {},
   "outputs": [],
   "source": [
    "def decManchesterDiff(l,tb):\n",
    "    s=decManchester(l[:tb],tb)\n",
    "    for i in range(tb,len(l),tb):\n",
    "        if(l[i:i+tb//2]==[l[i-1]]*(tb//2) and l[i+(tb//2):i+tb]==[-l[i-1]]*(tb//2)):\n",
    "            s+=\"1\"\n",
    "        elif(l[i:i+tb//2]==[-l[i-1]]*(tb//2) and l[i+(tb//2):i+tb]==[l[i-1]]*(tb//2)):\n",
    "            s+=\"0\"\n",
    "        else:\n",
    "            print(\"Bit erronné\")\n",
    "            break\n",
    "    return s"
   ]
  },
  {
   "cell_type": "code",
   "execution_count": 20,
   "id": "9f02d052",
   "metadata": {},
   "outputs": [],
   "source": [
    "def Miller(seq,tb):\n",
    "    Lx=[]\n",
    "    for i in range(len(seq)):\n",
    "        if(i==0):\n",
    "            if seq[i] == \"1\":\n",
    "                Lx+=[5]*(tb//2)+[-5]*(tb//2)\n",
    "            else:\n",
    "                Lx+=[-5]*tb\n",
    "        else:\n",
    "            if seq[i] == \"1\":\n",
    "                Lx+=[Lx[-1]]*(tb//2)+[-Lx[-1]]*(tb//2)\n",
    "            else:\n",
    "                if(seq[i-1] == \"1\"):\n",
    "                    Lx+=[Lx[-1]]*tb\n",
    "                else:\n",
    "                    Lx+=[-Lx[-1]]*tb\n",
    "    return Lx"
   ]
  },
  {
   "cell_type": "code",
   "execution_count": 21,
   "id": "e2ca8da0",
   "metadata": {},
   "outputs": [],
   "source": [
    "def decMiller(l,tb):\n",
    "    s=\"\"\n",
    "    if(l[:tb//2]==[5]*(tb//2) and l[tb//2:tb]==[-5]*(tb//2)):\n",
    "        s+=\"1\"\n",
    "    elif(l[:tb]==[-5]*(tb)):\n",
    "        s+=\"0\"\n",
    "    else:\n",
    "        print(\"Bit erronné\")\n",
    "        return s\n",
    "    for i in range(tb,len(l),tb):\n",
    "        if(l[i]!=l[i+tb//2]):\n",
    "            if(l[i]==l[i-1] and l[i:i+tb//2]==[l[i]]*(tb//2) and l[i+tb//2:i+tb]==[l[i+tb//2]]*(tb//2)):\n",
    "                s+=\"1\"\n",
    "            else:\n",
    "                print(\"Bit erronné\")\n",
    "                break\n",
    "        else:\n",
    "            if(l[i:i+tb]==[l[i]]*(tb)):\n",
    "                if((l[i]==l[i-1] and s[-1]==\"1\") or (l[i]!=l[i-1] and s[-1]==\"0\")):\n",
    "                    s+=\"0\"\n",
    "            else:\n",
    "                print(\"Bit erronné\")\n",
    "                break\n",
    "    return s"
   ]
  },
  {
   "cell_type": "code",
   "execution_count": 22,
   "id": "d9bfe03b",
   "metadata": {},
   "outputs": [],
   "source": [
    "def CMI(seq,tb):\n",
    "    Lx=[]\n",
    "    for i in range(len(seq)):\n",
    "        if seq[i] == \"1\":\n",
    "                Lx+=[-5]*(tb//2)+[5]*(tb//2)\n",
    "        else:\n",
    "            if(i==0):\n",
    "                Lx=[-5]*tb\n",
    "            elif(seq[i-1] == \"1\"):\n",
    "                Lx+=[Lx[-1]]*tb\n",
    "            elif(seq[i-1] == \"0\"):\n",
    "                Lx+=[-Lx[-1]]*tb\n",
    "    return Lx"
   ]
  },
  {
   "cell_type": "code",
   "execution_count": 23,
   "id": "f39ee5de",
   "metadata": {},
   "outputs": [],
   "source": [
    "def decCMI(l,tb):\n",
    "    s=\"\"\n",
    "    if(l[:tb//2]==[-5]*(tb//2) and l[tb//2:tb]==[5]*(tb//2)):\n",
    "        s+=\"1\"\n",
    "    elif(l[:tb]==[-5]*(tb)):\n",
    "        s+=\"0\"\n",
    "    else:\n",
    "        print(\"Bit erronné\")\n",
    "        return s\n",
    "    for i in range(tb,len(l),tb):\n",
    "        if(l[i:i+tb//2]==[-5]*(tb//2) and l[i+tb//2:i+tb]==[5]*(tb//2)):\n",
    "            s+=\"1\"\n",
    "        elif(l[i:i+tb]==[l[i]]*(tb)):\n",
    "            if((l[i]==l[i-1] and s[-1]==\"1\") or (l[i]!=l[i-1] and s[-1]==\"0\")):\n",
    "                s+=\"0\"\n",
    "            else:\n",
    "                print(\"Bit erronné\")\n",
    "                break\n",
    "    return s"
   ]
  },
  {
   "cell_type": "code",
   "execution_count": 24,
   "id": "5202cbe2",
   "metadata": {},
   "outputs": [],
   "source": [
    "def AMI(seq,tb):\n",
    "    Lx=[]\n",
    "    for i in range(len(seq)):\n",
    "        if(seq[i] == \"0\"):\n",
    "            Lx+=[0]*tb\n",
    "        else:\n",
    "            if(i==seq.find(\"1\")):\n",
    "                Lx+=[5]*tb\n",
    "                sw=-5\n",
    "            else:\n",
    "                Lx+=[sw]*tb\n",
    "                sw=-sw\n",
    "    return Lx"
   ]
  },
  {
   "cell_type": "code",
   "execution_count": 25,
   "id": "2a848dd3",
   "metadata": {},
   "outputs": [],
   "source": [
    "def decAMI(l,tb):\n",
    "    s=\"\"\n",
    "    for i in range(0,len(l),tb):\n",
    "        if(l[i:i+tb]==[0]*tb):\n",
    "            s+=\"0\"\n",
    "        elif(i == 0):\n",
    "            if(l[i:i+tb]==[5]*tb):\n",
    "                s+=\"1\"\n",
    "                sw=-5\n",
    "        elif(l[i:i+tb]==[sw]*tb):\n",
    "            s+=\"1\"\n",
    "            sw=-sw\n",
    "        else:\n",
    "            print(\"Bit erronné\")\n",
    "            break\n",
    "    return s"
   ]
  },
  {
   "cell_type": "code",
   "execution_count": 26,
   "id": "6965a9ee",
   "metadata": {},
   "outputs": [],
   "source": [
    "def MLT3(seq,tb):\n",
    "    Lx=[]\n",
    "    sw=[5,0,-5,0]\n",
    "    j=4\n",
    "    for i in range(len(seq)):\n",
    "        if(seq[i] == \"1\"):\n",
    "            if(i==seq.find(\"1\")):\n",
    "                Lx+=[5]*tb\n",
    "            else:\n",
    "                j=(j+1)%4\n",
    "                Lx+=[sw[j]]*tb\n",
    "        else:\n",
    "            if(i==0):\n",
    "                Lx+=[0]*tb\n",
    "            else:\n",
    "                Lx+=[Lx[-1]]*tb\n",
    "    return Lx"
   ]
  },
  {
   "cell_type": "code",
   "execution_count": 27,
   "id": "411fe8ae",
   "metadata": {},
   "outputs": [],
   "source": [
    "def decMLT3(l,tb):\n",
    "    s=\"\"\n",
    "    sw=[5,0,-5,0]\n",
    "    j=4\n",
    "    if(l[:tb]==[0]*tb):\n",
    "        s+=\"0\"\n",
    "    elif(l[:tb]==[5]*tb):\n",
    "        s+=\"1\"\n",
    "        j=0\n",
    "    else:\n",
    "        print(\"Bit erronné\")\n",
    "        return s\n",
    "    for i in range(tb,len(l),tb):\n",
    "        if(l[i:i+tb]==[l[i-1]]*tb):\n",
    "            s+=\"0\"\n",
    "        elif(l[i:i+tb]==[sw[(j+1)%4]]*tb):\n",
    "            s+=\"1\"\n",
    "            j=(j+1)%4\n",
    "        else:\n",
    "            print(\"Bit erronné\")\n",
    "            break\n",
    "    return s"
   ]
  },
  {
   "cell_type": "code",
   "execution_count": 28,
   "id": "2ab78c27",
   "metadata": {},
   "outputs": [],
   "source": [
    "def TwoB1Q(seq,tb):\n",
    "    Lx=[]\n",
    "    for i in range(0,len(seq),2):\n",
    "        if seq[i:i+2] == \"10\":\n",
    "            Lx+=[3]*tb\n",
    "        elif seq[i:i+2] == \"11\":\n",
    "            Lx+=[1]*tb\n",
    "        elif seq[i:i+2] == \"01\":\n",
    "            Lx+=[-1]*tb\n",
    "        elif seq[i:i+2] == \"00\":\n",
    "            Lx+=[-3]*tb\n",
    "    return Lx"
   ]
  },
  {
   "cell_type": "code",
   "execution_count": 29,
   "id": "150849ee",
   "metadata": {},
   "outputs": [],
   "source": [
    "def dec2B1Q(l,tb):\n",
    "    s=\"\"\n",
    "    for i in range(0,len(l),tb):\n",
    "        if(l[i:i+tb]==[3]*tb):\n",
    "            s+=\"10\"\n",
    "        elif(l[i:i+tb]==[1]*tb):\n",
    "            s+=\"11\"\n",
    "        elif(l[i:i+tb]==[-1]*tb):\n",
    "            s+=\"01\"\n",
    "        elif(l[i:i+tb]==[-3]*tb):\n",
    "            s+=\"00\"\n",
    "        else:\n",
    "            print(\"Bit erronné\")\n",
    "            break\n",
    "    return s"
   ]
  },
  {
   "cell_type": "code",
   "execution_count": 30,
   "id": "14736dcc",
   "metadata": {},
   "outputs": [],
   "source": [
    "def signal_encode(signal,seq,tb):\n",
    "    if signal=='RZ Uni':\n",
    "        return RZUni(seq,tb)\n",
    "    elif signal=='RZ Bi':\n",
    "        return RZBi(seq,tb)\n",
    "    elif signal=='NRZ':\n",
    "        return NRZ(seq,tb)\n",
    "    elif signal=='NRZI':\n",
    "        return NRZI(seq,tb)\n",
    "    elif signal=='Manchester':\n",
    "        return Manchester(seq,tb)\n",
    "    elif signal=='Manchester D':\n",
    "        return ManchesterDiff(seq,tb)\n",
    "    elif signal=='Miller':\n",
    "        return Miller(seq,tb)\n",
    "    elif signal=='CMI':\n",
    "        return CMI(seq,tb)\n",
    "    elif signal=='AMI':\n",
    "        return AMI(seq,tb)\n",
    "    elif signal=='MLT3':\n",
    "        return MLT3(seq,tb)\n",
    "    else:\n",
    "        return TwoB1Q(seq,tb)"
   ]
  },
  {
   "cell_type": "code",
   "execution_count": 31,
   "id": "fc27c0a1",
   "metadata": {},
   "outputs": [],
   "source": [
    "def signal_decode(signal,seq,tb):\n",
    "    if signal=='RZ Uni':\n",
    "        return decRZUni(seq,tb)\n",
    "    elif signal=='RZ Bi':\n",
    "        return decRZBi(seq,tb)\n",
    "    elif signal=='NRZ':\n",
    "        return decNRZ(seq,tb)\n",
    "    elif signal=='NRZI':\n",
    "        return decNRZI(seq,tb)\n",
    "    elif signal=='Manchester':\n",
    "        return decManchester(seq,tb)\n",
    "    elif signal=='Manchester D':\n",
    "        return decManchesterDiff(seq,tb)\n",
    "    elif signal=='Miller':\n",
    "        return decMiller(seq,tb)\n",
    "    elif signal=='CMI':\n",
    "        return decCMI(seq,tb)\n",
    "    elif signal=='AMI':\n",
    "        return decAMI(seq,tb)\n",
    "    elif signal=='MLT3':\n",
    "        return decMLT3(seq,tb)\n",
    "    else:\n",
    "        return dec2B1Q(seq,tb)"
   ]
  },
  {
   "cell_type": "code",
   "execution_count": null,
   "id": "3d0660ca",
   "metadata": {},
   "outputs": [],
   "source": []
  }
 ],
 "metadata": {
  "kernelspec": {
   "display_name": "Python 3 (ipykernel)",
   "language": "python",
   "name": "python3"
  },
  "language_info": {
   "codemirror_mode": {
    "name": "ipython",
    "version": 3
   },
   "file_extension": ".py",
   "mimetype": "text/x-python",
   "name": "python",
   "nbconvert_exporter": "python",
   "pygments_lexer": "ipython3",
   "version": "3.9.7"
  }
 },
 "nbformat": 4,
 "nbformat_minor": 5
}
